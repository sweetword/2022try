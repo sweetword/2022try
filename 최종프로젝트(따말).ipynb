{
  "nbformat": 4,
  "nbformat_minor": 0,
  "metadata": {
    "colab": {
      "name": "최종프로젝트(따말).ipynb",
      "provenance": [],
      "authorship_tag": "ABX9TyNuAP12sVFoXWklv2WmfROr",
      "include_colab_link": true
    },
    "kernelspec": {
      "name": "python3",
      "display_name": "Python 3"
    },
    "language_info": {
      "name": "python"
    }
  },
  "cells": [
    {
      "cell_type": "markdown",
      "metadata": {
        "id": "view-in-github",
        "colab_type": "text"
      },
      "source": [
        "<a href=\"https://colab.research.google.com/github/sweetword/2022try/blob/main/%EC%B5%9C%EC%A2%85%ED%94%84%EB%A1%9C%EC%A0%9D%ED%8A%B8(%EB%94%B0%EB%A7%90).ipynb\" target=\"_parent\"><img src=\"https://colab.research.google.com/assets/colab-badge.svg\" alt=\"Open In Colab\"/></a>"
      ]
    },
    {
      "cell_type": "markdown",
      "source": [
        "##최종프로젝트(따말)\n",
        "##2주차 과제를 조금 단순화 하였습니다.(2주차에는 pandas 사용, 지금은 사용하지 않았습니다. 실제로 교실에서 사용하고자 만들었습니다^^)\n",
        "####1. 우리반 학생들이 신청한 신청곡 랜덤 뽑기\n",
        "####- 학생들별로 1-n번째 신청곡 csv 파일로 저장하기\n",
        "####- csv파일 다운:https://drive.google.com/drive/folders/1HzjY7zQestZxdcO3IQhJhkj-2_dv9Bx5\n",
        "####- 몇 번째 신청곡에서 뽑을지 정하기\n",
        "####- 선택한 신청곡 순서를(row n번째)를 songs 리스트에 저장하기\n",
        "####- 랜덤으로 신청곡 뽑기, 그 신청곡이 예전에 틀었던 곡이면 다시 songs 리스트에서 곡 뽑기\n",
        "####- input 대답 결과_1(다시 뽑기) 또는 2(중지) 에 따라 songs 리스트에서 신청곡 반복적으로 뽑기\n",
        "\n",
        "####2. 학생명에 00이 포함된 학생들의 신청곡에서 오늘의 신청곡 뽑기\n",
        "####3. 신청곡 리스트를 분석하여 우리반 친구들이 좋아하는 가수 알아보기\n",
        "\n",
        "\n"
      ],
      "metadata": {
        "id": "jKmd2zdY7_YD"
      }
    },
    {
      "cell_type": "code",
      "source": [
        "!git clone https://github.com/sweetword/2022data\n"
      ],
      "metadata": {
        "colab": {
          "base_uri": "https://localhost:8080/"
        },
        "id": "dpHGPmFHPVYp",
        "outputId": "53e7d52e-d1be-434e-d160-dac9585b9911"
      },
      "execution_count": null,
      "outputs": [
        {
          "output_type": "stream",
          "name": "stdout",
          "text": [
            "Cloning into '2022data'...\n",
            "remote: Enumerating objects: 25, done.\u001b[K\n",
            "remote: Counting objects: 100% (25/25), done.\u001b[K\n",
            "remote: Compressing objects: 100% (23/23), done.\u001b[K\n",
            "remote: Total 25 (delta 5), reused 0 (delta 0), pack-reused 0\u001b[K\n",
            "Unpacking objects: 100% (25/25), done.\n"
          ]
        }
      ]
    },
    {
      "cell_type": "code",
      "source": [
        "ls\n"
      ],
      "metadata": {
        "colab": {
          "base_uri": "https://localhost:8080/"
        },
        "id": "bnLa_tl-PZR-",
        "outputId": "ae735f48-dd1c-40d0-fae9-e8caf343b38c"
      },
      "execution_count": null,
      "outputs": [
        {
          "output_type": "stream",
          "name": "stdout",
          "text": [
            "\u001b[0m\u001b[01;34m2022data\u001b[0m/  \u001b[01;34msample_data\u001b[0m/\n"
          ]
        }
      ]
    },
    {
      "cell_type": "code",
      "source": [
        "cd 2022data"
      ],
      "metadata": {
        "colab": {
          "base_uri": "https://localhost:8080/"
        },
        "id": "kZ2rWarKPbt-",
        "outputId": "a7463977-1bd3-40e8-91af-f2529098192b"
      },
      "execution_count": null,
      "outputs": [
        {
          "output_type": "stream",
          "name": "stdout",
          "text": [
            "/content/2022data\n"
          ]
        }
      ]
    },
    {
      "cell_type": "code",
      "source": [
        "ls"
      ],
      "metadata": {
        "colab": {
          "base_uri": "https://localhost:8080/"
        },
        "id": "XBm3-3BLPeFO",
        "outputId": "19ae3474-7acf-4b55-c30b-2f8b99262d98"
      },
      "execution_count": null,
      "outputs": [
        {
          "output_type": "stream",
          "name": "stdout",
          "text": [
            "age2008.csv         daegu100.csv   song.csv       suwon2021.csv\n",
            "age2012.csv         daegu10m.csv   suwon100.csv   suwon.csv\n",
            "age2022.csv         daegu2012.csv  suwon10.csv    suwonhot100.csv\n",
            "age_gender2008.csv  daegu2021.csv  suwon10m.csv\n",
            "age_gender.csv      README.md      suwon2012.csv\n"
          ]
        }
      ]
    },
    {
      "cell_type": "markdown",
      "source": [
        "##1. 우리반 학생들이 신청한 신청곡 랜덤 뽑기\n"
      ],
      "metadata": {
        "id": "s8Z9wT1ZRF2b"
      }
    },
    {
      "cell_type": "code",
      "source": [
        "import csv, time, random\n",
        "data = csv.reader(open('song.csv', encoding='cp949'))\n",
        "\n",
        "print('오늘의 신청곡을 뽑겠습니다')  \n",
        "number = input('몇 번째 신청곡에서 뽑겠습니까? 1-4 중 하나')\n",
        "\n",
        "songs = []\n",
        "\n",
        "for row in data:\n",
        "  if row[int(number)] != '' :        #아이들의 신청곡 중에 빈칸도 있으므로 빈칸 제외하고 신청곡 뽑기\n",
        "    songs.append(row[int(number)])   #n번째 신청곡은 row[n]번째 자료이므로 이 자료를 리스트에 저장하기\n",
        "\n",
        "answer = 1\n",
        "while answer == 1 :\n",
        "  if len(songs) != 0 :\n",
        "    today_song = random.choice(songs)\n",
        "    songs.remove(today_song)\n",
        "    # 학생들의 첫번째 신청곡 리스트에서 오늘 선정된 today_song을 삭제합니다.\n",
        "    time.sleep(1)\n",
        "\n",
        "    print('오늘의 신청곡은 '+ today_song + '입니다.')\n",
        "    time.sleep(1)\n",
        "    print(songs)\n",
        "    time.sleep(1)\n",
        "    answer = int(input(\"계속 신청곡을 뽑으시겠습니까? 1. 네 / 2. 아니오\"))\n"
      ],
      "metadata": {
        "id": "pUthiTvY5u9j"
      },
      "execution_count": null,
      "outputs": []
    },
    {
      "cell_type": "markdown",
      "source": [
        "##2. 학생명에 00(특정 글자)가 들어간 학생의 신청곡 중에서 뽑기"
      ],
      "metadata": {
        "id": "X1nG5WACRIsT"
      }
    },
    {
      "cell_type": "code",
      "source": [
        "import csv, time, random\n",
        "data = csv.reader(open('song.csv', encoding='cp949'))\n",
        "\n",
        "print('오늘의 스페셜 신청곡을 뽑겠습니다')  \n",
        "name = input('이름에 무엇이 들어간 학생 중에서 고르겠습니까?')\n",
        "songlist_1 = []\n",
        "songlist_2 = []\n",
        "\n",
        "for row in data:\n",
        "  if name in row[0] :\n",
        "    songlist_1.append(row[1:5])        #이름에 0이 들어간 학생의 신청곡 전부(row1-row4까지) 리스트로 정리하기\n",
        "    songlist_2 = sum(songlist_1, [])   #리스트 안에 리스트 모두 다 풀어주기\n",
        "    while '' in songlist_2:            #리스트 안에 있는 모든 '' 없애주기\n",
        "      songlist_2.remove('') \n",
        "\n",
        "answer = 1\n",
        "while answer == 1 :\n",
        "  if len(songlist_2) != 0 :\n",
        "    today_song = random.choice(songlist_2)\n",
        "    songlist_2.remove(today_song)\n",
        "    # songlist_2 에서 오늘 선정된 today_song을 삭제합니다.\n",
        "    time.sleep(1)\n",
        "\n",
        "    print('오늘의 신청곡은 '+ today_song + '입니다.')\n",
        "    time.sleep(1)\n",
        "    print(songlist_2)\n",
        "    time.sleep(1)\n",
        "    answer = int(input(\"계속 신청곡을 뽑으시겠습니까? 1. 네 / 2. 아니오\"))\n",
        "\n"
      ],
      "metadata": {
        "id": "64LKkesiAg7B",
        "colab": {
          "base_uri": "https://localhost:8080/"
        },
        "outputId": "f8431fdf-b6e8-4cbc-9fed-9d2afcd7ee6e"
      },
      "execution_count": null,
      "outputs": [
        {
          "name": "stdout",
          "output_type": "stream",
          "text": [
            "오늘의 스페셜 신청곡을 뽑겠습니다\n",
            "이름에 무엇이 들어간 학생 중에서 고르겠습니까?이\n",
            "오늘의 신청곡은 bts의 다이너마이트입니다.\n",
            "['길구 봉구 이별', '아이유 삐삐', '오마이걸 불꽃놀이']\n",
            "계속 신청곡을 뽑으시겠습니까? 1. 네 / 2. 아니오2\n"
          ]
        }
      ]
    },
    {
      "cell_type": "markdown",
      "source": [
        "##3. 신청곡 리스트를 분석하여 우리반 친구들이 좋아하는 가수 알아보기"
      ],
      "metadata": {
        "id": "wzU6maEuUnj0"
      }
    },
    {
      "cell_type": "code",
      "source": [
        "import csv, time, random\n",
        "data = csv.reader(open('song.csv', encoding='cp949'))\n",
        "\n",
        "print('우리반 친구들의 신청곡을 분석해봅시다.')  \n",
        "singer = input('어떤 가수를 알고 싶나요?')\n",
        "stname = []\n",
        "songs = []\n",
        "\n",
        "for row in data:\n",
        "  for i in range(1,5):                                  #반복문 사용하기 row[1]부터 row[5]까지\n",
        "    if row[i] != '' and  singer in row[i].split()[0]:   #반복문 사용하기 row[i]가 공백이 아니고 row[i]를 띄어쓰기로 나눴을 때 앞 부분(row[0])에 singer이 있을 때\n",
        "      songs.append(row[i])\n",
        "      result1= list(set(songs))                         #해당하는 가수의 신청곡을 songs 리스트에 저장하기\n",
        "      stname.append(row[0])                             #row[0]학생 이름을 리스트에 저장하기\n",
        "      result2 = list(set(stname))                        #중복된 학생 이름 제거하기\n",
        "print(result1)\n",
        "print(result2)\n",
        "n = len(result2)\n",
        "print(singer + '의 곡을 신청한 학생은'  + str(n)+  '명 입니다.')\n",
        "\n",
        "\n"
      ],
      "metadata": {
        "colab": {
          "base_uri": "https://localhost:8080/"
        },
        "id": "8V93amC700tT",
        "outputId": "e3c217fb-ac3d-4f4e-aac6-2a5f75a73d6c"
      },
      "execution_count": null,
      "outputs": [
        {
          "output_type": "stream",
          "name": "stdout",
          "text": [
            "우리반 친구들의 신청곡을 분석해봅시다.\n",
            "어떤 가수를 알고 싶나요?bts\n",
            "['bts의 다이너마이트']\n",
            "['이미소']\n",
            "bts의 곡을 신청한 학생은1명 입니다.\n"
          ]
        }
      ]
    },
    {
      "cell_type": "code",
      "source": [],
      "metadata": {
        "id": "emJortm35abj"
      },
      "execution_count": null,
      "outputs": []
    }
  ]
}